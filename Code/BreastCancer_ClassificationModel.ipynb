{
 "cells": [
  {
   "cell_type": "markdown",
   "metadata": {},
   "source": [
    "# Project Overview\n"
   ]
  },
  {
   "cell_type": "markdown",
   "metadata": {},
   "source": [
    "This project focuses on developing a classification model to assist in the diagnosis of breast cancer using historical patient data. The model leverages key features such as patient age, menopause status, tumor size, presence of invasive nodes, breast affected, metastasis status, breast quadrant, and prior history of breast conditions. The primary objective is to accurately predict the likelihood of cancer occurrence based on these clinical and demographic variables.\n",
    "\n",
    "The dataset used for this analysis was obtained from Kaggle, originally sourced from the University of Calabar Teaching Hospital cancer registry. While the data provides valuable insights into patient characteristics and cancer diagnosis trends, it is important to acknowledge that it reflects a specific hospital population. As a result, the findings and model performance may not generalize broadly to other populations or regions without additional validation on more diverse datasets.\n"
   ]
  },
  {
   "cell_type": "markdown",
   "metadata": {},
   "source": [
    "## Columns Description \n",
    "\n",
    "| **Feature Name**     | **Description**                                                                                  |\n",
    "|----------------------|--------------------------------------------------------------------------------------------------|\n",
    "| **S/N**              | Unique identifier for each patient.                                                              |\n",
    "| **Year**             | Year in which the diagnosis was conducted.                                                       |\n",
    "| **Age**              | Age of the patient at the time of diagnosis.                                                     |\n",
    "| **Menopause**        | Menopausal status at diagnosis: `0` = Postmenopausal, `1` = Premenopausal.                       |\n",
    "| **Tumor Size**       | Size of the excised tumor (in centimeters).                                                      |\n",
    "| **Involved Nodes**   | Number of axillary lymph nodes containing metastasis: `1` = Present, `0` = Not present.          |\n",
    "| **Breast**           | Indicates spread on both sides: `1` = Cancer has spread, `0` = Has not spread.                   |\n",
    "| **Metastatic**       | Indicates whether cance has spread to other organs: `1` = Yes, `0` = No.                         |\n",
    "| **Breast Quadrant**  | Tumor location based on breast quadrants (e.g., Upper Outer, Lower Inner, etc.).                 |\n",
    "| **History**          | Cancer history: `1` = Patient has a personal or family history, `0` = No history.                |\n",
    "| **Diagnosis**        | Diagnosis outcome; used as the target variable for classification.                               |\n"
   ]
  },
  {
   "cell_type": "markdown",
   "metadata": {},
   "source": [
    "##                                        Loading the necessary Libraries \n"
   ]
  },
  {
   "cell_type": "code",
   "execution_count": 75,
   "metadata": {},
   "outputs": [],
   "source": [
    "\n",
    "# Data Manipulation\n",
    "import pandas as pd\n",
    "import numpy as np\n",
    "\n",
    "# Data Visualisation \n",
    "import matplotlib.pyplot as plt \n",
    "plt.style.use('ggplot')\n",
    "import seaborn as sns\n",
    "sns.set_style('darkgrid')\n",
    "\n",
    "# Statistical Analysis\n",
    "import statsmodels.api as sm \n",
    "from scipy import stats \n",
    "from scipy.stats import mannwhitneyu\n",
    "from scipy.stats import pearsonr\n",
    "\n",
    "\n",
    "# Data Preprocessing \n",
    "from sklearn.model_selection import train_test_split\n",
    "from sklearn.preprocessing import LabelEncoder\n",
    "from sklearn.compose import ColumnTransformer\n",
    "from sklearn.preprocessing import PowerTransformer\n",
    "from sklearn.preprocessing import OneHotEncoder\n",
    "\n",
    "# Classification Model\n",
    "from sklearn.linear_model import LogisticRegression\n",
    "from sklearn.svm import SVC\n",
    "from sklearn.ensemble import RandomForestClassifier\n",
    "from sklearn.tree import DecisionTreeClassifier\n",
    "from sklearn.model_selection import GridSearchCV\n",
    "from sklearn.neighbors import KNeighborsClassifier\n",
    "\n",
    "# Model Evaluation\n",
    "from sklearn.metrics import precision_recall_fscore_support\n",
    "from sklearn.metrics import  classification_report\n"
   ]
  },
  {
   "cell_type": "markdown",
   "metadata": {},
   "source": [
    "## Loading the Data"
   ]
  },
  {
   "cell_type": "code",
   "execution_count": 76,
   "metadata": {},
   "outputs": [
    {
     "name": "stdout",
     "output_type": "stream",
     "text": [
      "   S/N  Year   Age  Menopause Tumor Size (cm) Inv-Nodes Breast Metastasis  \\\n",
      "0    1  2019  40.0          1               2         0  Right          0   \n",
      "1    2  2019  39.0          1               2         0   Left          0   \n",
      "2    3  2019  45.0          0               4         0   Left          0   \n",
      "3    4  2019  26.0          1               3         0   Left          0   \n",
      "4    5  2019  21.0          1               1         0  Right          0   \n",
      "\n",
      "  Breast Quadrant History Diagnosis Result  \n",
      "0     Upper inner       0           Benign  \n",
      "1     Upper outer       0           Benign  \n",
      "2     Lower outer       0           Benign  \n",
      "3     Lower inner       1           Benign  \n",
      "4     Upper outer       1           Benign  \n"
     ]
    }
   ],
   "source": [
    "Excel_file = r\"C:\\Users\\sandr\\OneDrive\\Documents\\Github_Testing\\Data-Science-Portfolio\\Code\\breastcancer.csv\"\n",
    "data = pd.read_csv(Excel_file)\n",
    "print(data.head())"
   ]
  },
  {
   "cell_type": "markdown",
   "metadata": {},
   "source": [
    "## Data Exploration"
   ]
  },
  {
   "cell_type": "code",
   "execution_count": 77,
   "metadata": {},
   "outputs": [
    {
     "name": "stdout",
     "output_type": "stream",
     "text": [
      "<class 'pandas.core.frame.DataFrame'>\n",
      "RangeIndex: 215 entries, 0 to 214\n",
      "Data columns (total 11 columns):\n",
      " #   Column            Non-Null Count  Dtype  \n",
      "---  ------            --------------  -----  \n",
      " 0   S/N               215 non-null    int64  \n",
      " 1   Year              215 non-null    object \n",
      " 2   Age               214 non-null    float64\n",
      " 3   Menopause         215 non-null    int64  \n",
      " 4   Tumor Size (cm)   214 non-null    object \n",
      " 5   Inv-Nodes         214 non-null    object \n",
      " 6   Breast            213 non-null    object \n",
      " 7   Metastasis        215 non-null    object \n",
      " 8   Breast Quadrant   215 non-null    object \n",
      " 9   History           215 non-null    object \n",
      " 10  Diagnosis Result  214 non-null    object \n",
      "dtypes: float64(1), int64(2), object(8)\n",
      "memory usage: 18.6+ KB\n"
     ]
    }
   ],
   "source": [
    "data.info()"
   ]
  },
  {
   "cell_type": "code",
   "execution_count": 78,
   "metadata": {},
   "outputs": [
    {
     "name": "stdout",
     "output_type": "stream",
     "text": [
      "S/N                 0\n",
      "Year                0\n",
      "Age                 1\n",
      "Menopause           0\n",
      "Tumor Size (cm)     1\n",
      "Inv-Nodes           1\n",
      "Breast              2\n",
      "Metastasis          0\n",
      "Breast Quadrant     0\n",
      "History             0\n",
      "Diagnosis Result    1\n",
      "dtype: int64\n",
      "     S/N  Year   Age  Menopause Tumor Size (cm) Inv-Nodes Breast Metastasis  \\\n",
      "30    31  2019  56.0          0               9         1   Left          1   \n",
      "40    41     #  34.0          1               #         #      #          #   \n",
      "47    48  2019  25.0          1               5         0      #          0   \n",
      "67    68  2019  40.0          1               1         0   Left          0   \n",
      "143  144  2020  29.0          1               2         0      #          0   \n",
      "164  165  2020  38.0          1               2         0      #          0   \n",
      "166  167  2020  62.0          0               3         1      #          1   \n",
      "178  179  2020  49.0          1               4         0      #          0   \n",
      "\n",
      "    Breast Quadrant History Diagnosis Result  \n",
      "30                #       0        Malignant  \n",
      "40                #       #        Malignant  \n",
      "47      Upper outer       0        Malignant  \n",
      "67      Lower outer       #           Benign  \n",
      "143     Lower inner       1           Benign  \n",
      "164     Upper outer       1           Benign  \n",
      "166     Upper inner       1        Malignant  \n",
      "178     Lower outer       0           Benign  \n"
     ]
    }
   ],
   "source": [
    "print(data.isnull().sum())  # print number of misinig data in each column\n",
    "\n",
    "# to print out rows with hash sign\n",
    "mask = data.apply(lambda x: x.astype(str).str.contains('#')).any(axis=1)\n",
    "rows_with_hash = data[mask]\n",
    "\n",
    "print(rows_with_hash)\n"
   ]
  },
  {
   "cell_type": "markdown",
   "metadata": {},
   "source": [
    "This shows that we have some missing data in the dataset. I also noticed that in the dataset there are rows that being populated with # which clearly shows that is a data entry error."
   ]
  },
  {
   "cell_type": "markdown",
   "metadata": {},
   "source": [
    "### Data Cleaning/ Data Imputation\n",
    "\n",
    "Data imputation is the processing of replacing misisng values in a dataset with a substitued values. Instead of removeing or deleting rows with a misisng or incorrect entry i rather imputed the data to retain the majority of the dataset information and also not reducing the size of my dataset. For this dataset  i will be using the Single imputation Methods.Such as Replacing misiing values of catergorical and binary columns by mode and  for numerical data, if the data is skewed i will use median and if it normally distributed i will use mean. "
   ]
  },
  {
   "cell_type": "code",
   "execution_count": 79,
   "metadata": {},
   "outputs": [
    {
     "data": {
      "text/plain": [
       "Index(['S/N', 'Year', 'Age', 'Menopause', 'TumorSize(cm)', 'Inv-Nodes',\n",
       "       'Breast', 'Metastasis', 'BreastQuadrant', 'History', 'DiagnosisResult'],\n",
       "      dtype='object')"
      ]
     },
     "execution_count": 79,
     "metadata": {},
     "output_type": "execute_result"
    }
   ],
   "source": [
    "data.columns = data.columns.str.replace(\" \", \"\") # to remove the white space in the columns\n",
    "data.columns"
   ]
  },
  {
   "cell_type": "code",
   "execution_count": 80,
   "metadata": {},
   "outputs": [],
   "source": [
    "columns = ['Year','Age','Menopause','TumorSize(cm)','Inv-Nodes','Metastasis','History']\n",
    "for col in columns:\n",
    "    data[col]= pd.to_numeric(data[col], errors= 'coerce')"
   ]
  },
  {
   "cell_type": "code",
   "execution_count": 81,
   "metadata": {},
   "outputs": [
    {
     "name": "stdout",
     "output_type": "stream",
     "text": [
      "Menopause: [1 0]\n",
      "Inv-Nodes: [ 0.  1. nan  3.]\n",
      "Breast: ['Right' 'Left' '#' nan]\n",
      "Metastasis: [ 0.  1. nan]\n",
      "BreastQuadrant: ['Upper inner' 'Upper outer' 'Lower outer' 'Lower inner' '#'\n",
      " 'Upper outer ']\n",
      "DiagnosisResult: ['Benign' 'Malignant' nan]\n"
     ]
    }
   ],
   "source": [
    "unique_column= ['Menopause','Inv-Nodes','Breast','Metastasis','BreastQuadrant','DiagnosisResult']\n",
    "for col in unique_column:\n",
    "    print(f\"{col}: {data[col].unique()}\")"
   ]
  },
  {
   "cell_type": "code",
   "execution_count": 82,
   "metadata": {},
   "outputs": [],
   "source": [
    "# to ensure that Inv-Nodes and Metastasis keep only 0 or 1\n",
    "data['Inv-Nodes'] = data['Inv-Nodes'].apply(lambda x: x if x == 0 or x ==1 else np.nan)\n",
    "data['Metastasis'] = data['Metastasis'].apply(lambda x : x if x == 0 or x == 1 else np.nan)\n",
    "\n",
    "# to ensure Breast column has only Left or Right\n",
    "data['Breast'] = data['Breast'].apply(lambda x : x if x == 'Right' or x == 'Left' else np.nan)\n",
    "\n",
    "# to replace '#' with NaN\n",
    "data['BreastQuadrant'] = data['BreastQuadrant'].apply(lambda x : np.nan if x == '#' else x)\n",
    " \n",
    " #Remove extra space\n",
    "data['BreastQuadrant'] = data['BreastQuadrant'].str.strip()"
   ]
  },
  {
   "cell_type": "code",
   "execution_count": 83,
   "metadata": {},
   "outputs": [
    {
     "name": "stdout",
     "output_type": "stream",
     "text": [
      "                 count_Value\n",
      "S/N                        0\n",
      "Year                       1\n",
      "Age                        1\n",
      "Menopause                  0\n",
      "TumorSize(cm)              2\n",
      "Inv-Nodes                  3\n",
      "Breast                     8\n",
      "Metastasis                 1\n",
      "BreastQuadrant             2\n",
      "History                    2\n",
      "DiagnosisResult            1\n"
     ]
    }
   ],
   "source": [
    "data_null_values = data.isnull().sum().to_frame().rename(columns = {0:'count_Value'})\n",
    "print(data_null_values)"
   ]
  },
  {
   "cell_type": "code",
   "execution_count": 84,
   "metadata": {},
   "outputs": [
    {
     "name": "stdout",
     "output_type": "stream",
     "text": [
      "Mode of 'Inv-Nodes': 0.0\n",
      "Mode of 'Breast': Left\n",
      "Mode of 'BreastQuadrant': Upper outer\n",
      "Mode of 'History': 0.0\n",
      "Mode of 'DiagnosisResult': Benign\n",
      "Mode of 'Metastasis': 0.0\n"
     ]
    }
   ],
   "source": [
    "# To find the mode of the categorical and binary columns\n",
    "columns_mode = ['Inv-Nodes','Breast','BreastQuadrant','History','DiagnosisResult','Metastasis']\n",
    "\n",
    "for col in columns_mode:\n",
    "    mode_value = data[col].mode()\n",
    "    if not mode_value.empty:\n",
    "        print(f\"Mode of '{col}': {mode_value.iloc[0]}\")\n",
    "    else:\n",
    "        print(f\"Mode of '{col}': No mode found (column may be empty)\")"
   ]
  },
  {
   "cell_type": "code",
   "execution_count": 85,
   "metadata": {},
   "outputs": [],
   "source": [
    "# Function for filling missing values with mode\n",
    "\n",
    "def missing_value_mode(data,columns):\n",
    "    for col in columns:\n",
    "        if col in data.columns:\n",
    "            data[col] = data[col].replace('#', pd.NA)\n",
    "            data[col] = data[col].astype(\"string\")\n",
    "            if data[col].isnull().any():\n",
    "                mode_value = data[col].mode()\n",
    "                if not mode_value.empty:\n",
    "                    data[col].fillna(mode_value.iloc[0], inplace = True)\n",
    "    return data\n"
   ]
  },
  {
   "cell_type": "code",
   "execution_count": 86,
   "metadata": {},
   "outputs": [
    {
     "name": "stdout",
     "output_type": "stream",
     "text": [
      "     S/N    Year   Age  Menopause  TumorSize(cm) Inv-Nodes Breast Metastasis  \\\n",
      "0      1  2019.0  40.0          1            2.0       0.0  Right        0.0   \n",
      "1      2  2019.0  39.0          1            2.0       0.0   Left        0.0   \n",
      "2      3  2019.0  45.0          0            4.0       0.0   Left        0.0   \n",
      "3      4  2019.0  26.0          1            3.0       0.0   Left        0.0   \n",
      "4      5  2019.0  21.0          1            1.0       0.0  Right        0.0   \n",
      "..   ...     ...   ...        ...            ...       ...    ...        ...   \n",
      "210  211  2020.0  22.0          1            1.0       0.0   Left        0.0   \n",
      "211  212  2020.0  19.0          1            1.0       0.0   Left        0.0   \n",
      "212  213  2020.0  50.0          0            4.0       0.0  Right        0.0   \n",
      "213  214  2020.0   NaN          0            5.0       0.0   Left        1.0   \n",
      "214  215  2020.0  13.0          1            NaN       0.0   Left        0.0   \n",
      "\n",
      "    BreastQuadrant History DiagnosisResult  \n",
      "0      Upper inner     0.0          Benign  \n",
      "1      Upper outer     0.0          Benign  \n",
      "2      Lower outer     0.0          Benign  \n",
      "3      Lower inner     1.0          Benign  \n",
      "4      Upper outer     1.0          Benign  \n",
      "..             ...     ...             ...  \n",
      "210    Upper outer     1.0          Benign  \n",
      "211    Lower inner     1.0          Benign  \n",
      "212    Lower outer     1.0          Benign  \n",
      "213    Upper outer     0.0          Benign  \n",
      "214    Lower outer     1.0          Benign  \n",
      "\n",
      "[215 rows x 11 columns]\n"
     ]
    }
   ],
   "source": [
    "df = data.copy()\n",
    "#print(df)\n",
    "df = missing_value_mode(df,columns_mode)\n",
    "print(df)"
   ]
  },
  {
   "cell_type": "code",
   "execution_count": 87,
   "metadata": {},
   "outputs": [],
   "source": [
    "columns_median = ['Year','Age','TumorSize(cm)']\n",
    "for col in columns_median:\n",
    "    if df[col].isnull().any():\n",
    "        median_value = df[col].median()\n",
    "        df[col].fillna(median_value, inplace=True)"
   ]
  },
  {
   "cell_type": "code",
   "execution_count": 88,
   "metadata": {},
   "outputs": [
    {
     "name": "stdout",
     "output_type": "stream",
     "text": [
      "S/N                0\n",
      "Year               0\n",
      "Age                0\n",
      "Menopause          0\n",
      "TumorSize(cm)      0\n",
      "Inv-Nodes          0\n",
      "Breast             0\n",
      "Metastasis         0\n",
      "BreastQuadrant     0\n",
      "History            0\n",
      "DiagnosisResult    0\n",
      "dtype: int64\n"
     ]
    }
   ],
   "source": [
    "# To ensure there is no missing values\n",
    "\n",
    "print(df.isnull().sum())  \n"
   ]
  },
  {
   "cell_type": "code",
   "execution_count": 90,
   "metadata": {},
   "outputs": [
    {
     "data": {
      "application/vnd.microsoft.datawrangler.viewer.v0+json": {
       "columns": [
        {
         "name": "index",
         "rawType": "int64",
         "type": "integer"
        },
        {
         "name": "Year",
         "rawType": "float64",
         "type": "float"
        },
        {
         "name": "Age",
         "rawType": "float64",
         "type": "float"
        },
        {
         "name": "Menopause",
         "rawType": "int64",
         "type": "integer"
        },
        {
         "name": "TumorSize(cm)",
         "rawType": "float64",
         "type": "float"
        },
        {
         "name": "Inv-Nodes",
         "rawType": "string",
         "type": "string"
        },
        {
         "name": "Breast",
         "rawType": "string",
         "type": "string"
        },
        {
         "name": "Metastasis",
         "rawType": "string",
         "type": "string"
        },
        {
         "name": "BreastQuadrant",
         "rawType": "string",
         "type": "string"
        },
        {
         "name": "History",
         "rawType": "string",
         "type": "string"
        },
        {
         "name": "DiagnosisResult",
         "rawType": "string",
         "type": "string"
        }
       ],
       "ref": "58bb2052-e47d-489e-98e4-e4c542210e1c",
       "rows": [
        [
         "0",
         "2019.0",
         "40.0",
         "1",
         "2.0",
         "0.0",
         "Right",
         "0.0",
         "Upper inner",
         "0.0",
         "Benign"
        ],
        [
         "1",
         "2019.0",
         "39.0",
         "1",
         "2.0",
         "0.0",
         "Left",
         "0.0",
         "Upper outer",
         "0.0",
         "Benign"
        ],
        [
         "2",
         "2019.0",
         "45.0",
         "0",
         "4.0",
         "0.0",
         "Left",
         "0.0",
         "Lower outer",
         "0.0",
         "Benign"
        ],
        [
         "3",
         "2019.0",
         "26.0",
         "1",
         "3.0",
         "0.0",
         "Left",
         "0.0",
         "Lower inner",
         "1.0",
         "Benign"
        ],
        [
         "4",
         "2019.0",
         "21.0",
         "1",
         "1.0",
         "0.0",
         "Right",
         "0.0",
         "Upper outer",
         "1.0",
         "Benign"
        ],
        [
         "5",
         "2019.0",
         "50.0",
         "0",
         "5.0",
         "1.0",
         "Right",
         "1.0",
         "Lower outer",
         "0.0",
         "Malignant"
        ],
        [
         "6",
         "2019.0",
         "58.0",
         "0",
         "6.0",
         "1.0",
         "Right",
         "1.0",
         "Upper outer",
         "0.0",
         "Malignant"
        ],
        [
         "7",
         "2019.0",
         "21.0",
         "1",
         "3.0",
         "0.0",
         "Left",
         "0.0",
         "Upper inner",
         "0.0",
         "Benign"
        ],
        [
         "8",
         "2019.0",
         "35.0",
         "1",
         "4.0",
         "0.0",
         "Left",
         "0.0",
         "Upper outer",
         "0.0",
         "Benign"
        ],
        [
         "9",
         "2019.0",
         "42.0",
         "1",
         "2.0",
         "0.0",
         "Right",
         "0.0",
         "Lower outer",
         "1.0",
         "Benign"
        ],
        [
         "10",
         "2019.0",
         "41.0",
         "1",
         "7.0",
         "1.0",
         "Right",
         "1.0",
         "Lower outer",
         "1.0",
         "Benign"
        ],
        [
         "11",
         "2019.0",
         "41.0",
         "1",
         "10.0",
         "1.0",
         "Right",
         "1.0",
         "Lower inner",
         "1.0",
         "Malignant"
        ],
        [
         "12",
         "2019.0",
         "50.0",
         "0",
         "5.0",
         "1.0",
         "Right",
         "1.0",
         "Upper outer",
         "0.0",
         "Malignant"
        ],
        [
         "13",
         "2019.0",
         "43.0",
         "1",
         "6.0",
         "1.0",
         "Right",
         "0.0",
         "Upper inner",
         "0.0",
         "Malignant"
        ],
        [
         "14",
         "2019.0",
         "26.0",
         "1",
         "3.0",
         "0.0",
         "Left",
         "0.0",
         "Lower inner",
         "0.0",
         "Benign"
        ],
        [
         "15",
         "2019.0",
         "30.0",
         "1",
         "3.0",
         "0.0",
         "Right",
         "0.0",
         "Upper outer",
         "0.0",
         "Benign"
        ],
        [
         "16",
         "2019.0",
         "33.0",
         "1",
         "4.0",
         "0.0",
         "Left",
         "0.0",
         "Lower outer",
         "1.0",
         "Benign"
        ],
        [
         "17",
         "2019.0",
         "39.0",
         "1",
         "1.0",
         "0.0",
         "Left",
         "0.0",
         "Lower outer",
         "1.0",
         "Benign"
        ],
        [
         "18",
         "2019.0",
         "38.0",
         "1",
         "3.0",
         "1.0",
         "Right",
         "1.0",
         "Lower outer",
         "0.0",
         "Malignant"
        ],
        [
         "19",
         "2019.0",
         "58.0",
         "0",
         "6.0",
         "1.0",
         "Right",
         "1.0",
         "Upper inner",
         "0.0",
         "Malignant"
        ],
        [
         "20",
         "2019.0",
         "60.0",
         "0",
         "10.0",
         "1.0",
         "Left",
         "1.0",
         "Lower inner",
         "1.0",
         "Malignant"
        ],
        [
         "21",
         "2019.0",
         "47.0",
         "0",
         "4.0",
         "0.0",
         "Left",
         "0.0",
         "Lower inner",
         "1.0",
         "Benign"
        ],
        [
         "22",
         "2019.0",
         "45.0",
         "1",
         "6.0",
         "1.0",
         "Left",
         "1.0",
         "Upper outer",
         "1.0",
         "Malignant"
        ],
        [
         "23",
         "2019.0",
         "57.0",
         "0",
         "8.0",
         "1.0",
         "Right",
         "1.0",
         "Upper outer",
         "1.0",
         "Malignant"
        ],
        [
         "24",
         "2019.0",
         "34.0",
         "1",
         "1.0",
         "0.0",
         "Left",
         "0.0",
         "Upper inner",
         "0.0",
         "Benign"
        ],
        [
         "25",
         "2019.0",
         "26.0",
         "1",
         "2.0",
         "0.0",
         "Left",
         "0.0",
         "Upper outer",
         "0.0",
         "Benign"
        ],
        [
         "26",
         "2019.0",
         "38.0",
         "1",
         "2.0",
         "0.0",
         "Right",
         "0.0",
         "Lower outer",
         "1.0",
         "Benign"
        ],
        [
         "27",
         "2019.0",
         "31.0",
         "1",
         "5.0",
         "0.0",
         "Left",
         "0.0",
         "Lower inner",
         "1.0",
         "Malignant"
        ],
        [
         "28",
         "2019.0",
         "36.0",
         "1",
         "5.0",
         "0.0",
         "Right",
         "0.0",
         "Lower inner",
         "1.0",
         "Benign"
        ],
        [
         "29",
         "2019.0",
         "42.0",
         "1",
         "3.0",
         "0.0",
         "Left",
         "0.0",
         "Lower outer",
         "1.0",
         "Malignant"
        ],
        [
         "30",
         "2019.0",
         "56.0",
         "0",
         "9.0",
         "1.0",
         "Left",
         "1.0",
         "Upper outer",
         "0.0",
         "Malignant"
        ],
        [
         "31",
         "2019.0",
         "48.0",
         "0",
         "7.0",
         "1.0",
         "Right",
         "1.0",
         "Upper outer",
         "0.0",
         "Malignant"
        ],
        [
         "32",
         "2019.0",
         "40.0",
         "1",
         "2.0",
         "0.0",
         "Left",
         "1.0",
         "Upper outer",
         "0.0",
         "Malignant"
        ],
        [
         "33",
         "2019.0",
         "35.0",
         "1",
         "1.0",
         "0.0",
         "Left",
         "0.0",
         "Lower inner",
         "0.0",
         "Benign"
        ],
        [
         "34",
         "2019.0",
         "31.0",
         "1",
         "6.0",
         "1.0",
         "Right",
         "1.0",
         "Upper inner",
         "1.0",
         "Malignant"
        ],
        [
         "35",
         "2019.0",
         "21.0",
         "1",
         "2.0",
         "0.0",
         "Right",
         "1.0",
         "Lower inner",
         "0.0",
         "Benign"
        ],
        [
         "36",
         "2019.0",
         "61.0",
         "0",
         "4.0",
         "1.0",
         "Right",
         "1.0",
         "Lower outer",
         "1.0",
         "Malignant"
        ],
        [
         "37",
         "2019.0",
         "50.0",
         "0",
         "5.0",
         "0.0",
         "Left",
         "0.0",
         "Lower outer",
         "0.0",
         "Benign"
        ],
        [
         "38",
         "2019.0",
         "20.0",
         "1",
         "3.0",
         "0.0",
         "Left",
         "0.0",
         "Upper outer",
         "0.0",
         "Benign"
        ],
        [
         "39",
         "2019.0",
         "45.0",
         "1",
         "5.0",
         "1.0",
         "Left",
         "1.0",
         "Upper inner",
         "0.0",
         "Malignant"
        ],
        [
         "40",
         "2020.0",
         "34.0",
         "1",
         "4.0",
         "0.0",
         "Left",
         "0.0",
         "Upper outer",
         "0.0",
         "Malignant"
        ],
        [
         "41",
         "2019.0",
         "38.0",
         "1",
         "2.0",
         "0.0",
         "Left",
         "0.0",
         "Lower inner",
         "0.0",
         "Benign"
        ],
        [
         "42",
         "2019.0",
         "37.0",
         "1",
         "8.0",
         "1.0",
         "Right",
         "1.0",
         "Upper outer",
         "1.0",
         "Malignant"
        ],
        [
         "43",
         "2019.0",
         "47.0",
         "0",
         "7.0",
         "1.0",
         "Left",
         "1.0",
         "Upper outer",
         "1.0",
         "Malignant"
        ],
        [
         "44",
         "2019.0",
         "57.0",
         "0",
         "1.0",
         "0.0",
         "Left",
         "0.0",
         "Lower inner",
         "0.0",
         "Benign"
        ],
        [
         "45",
         "2019.0",
         "42.0",
         "1",
         "4.0",
         "0.0",
         "Left",
         "0.0",
         "Upper outer",
         "0.0",
         "Benign"
        ],
        [
         "46",
         "2019.0",
         "27.0",
         "1",
         "4.0",
         "0.0",
         "Left",
         "0.0",
         "Lower outer",
         "0.0",
         "Benign"
        ],
        [
         "47",
         "2019.0",
         "25.0",
         "1",
         "5.0",
         "0.0",
         "Left",
         "0.0",
         "Upper outer",
         "0.0",
         "Malignant"
        ],
        [
         "48",
         "2019.0",
         "17.0",
         "1",
         "1.0",
         "0.0",
         "Right",
         "0.0",
         "Lower inner",
         "0.0",
         "Benign"
        ],
        [
         "49",
         "2019.0",
         "23.0",
         "1",
         "1.0",
         "0.0",
         "Left",
         "0.0",
         "Lower outer",
         "0.0",
         "Benign"
        ]
       ],
       "shape": {
        "columns": 10,
        "rows": 215
       }
      },
      "text/html": [
       "<div>\n",
       "<style scoped>\n",
       "    .dataframe tbody tr th:only-of-type {\n",
       "        vertical-align: middle;\n",
       "    }\n",
       "\n",
       "    .dataframe tbody tr th {\n",
       "        vertical-align: top;\n",
       "    }\n",
       "\n",
       "    .dataframe thead th {\n",
       "        text-align: right;\n",
       "    }\n",
       "</style>\n",
       "<table border=\"1\" class=\"dataframe\">\n",
       "  <thead>\n",
       "    <tr style=\"text-align: right;\">\n",
       "      <th></th>\n",
       "      <th>Year</th>\n",
       "      <th>Age</th>\n",
       "      <th>Menopause</th>\n",
       "      <th>TumorSize(cm)</th>\n",
       "      <th>Inv-Nodes</th>\n",
       "      <th>Breast</th>\n",
       "      <th>Metastasis</th>\n",
       "      <th>BreastQuadrant</th>\n",
       "      <th>History</th>\n",
       "      <th>DiagnosisResult</th>\n",
       "    </tr>\n",
       "  </thead>\n",
       "  <tbody>\n",
       "    <tr>\n",
       "      <th>0</th>\n",
       "      <td>2019.0</td>\n",
       "      <td>40.0</td>\n",
       "      <td>1</td>\n",
       "      <td>2.0</td>\n",
       "      <td>0.0</td>\n",
       "      <td>Right</td>\n",
       "      <td>0.0</td>\n",
       "      <td>Upper inner</td>\n",
       "      <td>0.0</td>\n",
       "      <td>Benign</td>\n",
       "    </tr>\n",
       "    <tr>\n",
       "      <th>1</th>\n",
       "      <td>2019.0</td>\n",
       "      <td>39.0</td>\n",
       "      <td>1</td>\n",
       "      <td>2.0</td>\n",
       "      <td>0.0</td>\n",
       "      <td>Left</td>\n",
       "      <td>0.0</td>\n",
       "      <td>Upper outer</td>\n",
       "      <td>0.0</td>\n",
       "      <td>Benign</td>\n",
       "    </tr>\n",
       "    <tr>\n",
       "      <th>2</th>\n",
       "      <td>2019.0</td>\n",
       "      <td>45.0</td>\n",
       "      <td>0</td>\n",
       "      <td>4.0</td>\n",
       "      <td>0.0</td>\n",
       "      <td>Left</td>\n",
       "      <td>0.0</td>\n",
       "      <td>Lower outer</td>\n",
       "      <td>0.0</td>\n",
       "      <td>Benign</td>\n",
       "    </tr>\n",
       "    <tr>\n",
       "      <th>3</th>\n",
       "      <td>2019.0</td>\n",
       "      <td>26.0</td>\n",
       "      <td>1</td>\n",
       "      <td>3.0</td>\n",
       "      <td>0.0</td>\n",
       "      <td>Left</td>\n",
       "      <td>0.0</td>\n",
       "      <td>Lower inner</td>\n",
       "      <td>1.0</td>\n",
       "      <td>Benign</td>\n",
       "    </tr>\n",
       "    <tr>\n",
       "      <th>4</th>\n",
       "      <td>2019.0</td>\n",
       "      <td>21.0</td>\n",
       "      <td>1</td>\n",
       "      <td>1.0</td>\n",
       "      <td>0.0</td>\n",
       "      <td>Right</td>\n",
       "      <td>0.0</td>\n",
       "      <td>Upper outer</td>\n",
       "      <td>1.0</td>\n",
       "      <td>Benign</td>\n",
       "    </tr>\n",
       "    <tr>\n",
       "      <th>...</th>\n",
       "      <td>...</td>\n",
       "      <td>...</td>\n",
       "      <td>...</td>\n",
       "      <td>...</td>\n",
       "      <td>...</td>\n",
       "      <td>...</td>\n",
       "      <td>...</td>\n",
       "      <td>...</td>\n",
       "      <td>...</td>\n",
       "      <td>...</td>\n",
       "    </tr>\n",
       "    <tr>\n",
       "      <th>210</th>\n",
       "      <td>2020.0</td>\n",
       "      <td>22.0</td>\n",
       "      <td>1</td>\n",
       "      <td>1.0</td>\n",
       "      <td>0.0</td>\n",
       "      <td>Left</td>\n",
       "      <td>0.0</td>\n",
       "      <td>Upper outer</td>\n",
       "      <td>1.0</td>\n",
       "      <td>Benign</td>\n",
       "    </tr>\n",
       "    <tr>\n",
       "      <th>211</th>\n",
       "      <td>2020.0</td>\n",
       "      <td>19.0</td>\n",
       "      <td>1</td>\n",
       "      <td>1.0</td>\n",
       "      <td>0.0</td>\n",
       "      <td>Left</td>\n",
       "      <td>0.0</td>\n",
       "      <td>Lower inner</td>\n",
       "      <td>1.0</td>\n",
       "      <td>Benign</td>\n",
       "    </tr>\n",
       "    <tr>\n",
       "      <th>212</th>\n",
       "      <td>2020.0</td>\n",
       "      <td>50.0</td>\n",
       "      <td>0</td>\n",
       "      <td>4.0</td>\n",
       "      <td>0.0</td>\n",
       "      <td>Right</td>\n",
       "      <td>0.0</td>\n",
       "      <td>Lower outer</td>\n",
       "      <td>1.0</td>\n",
       "      <td>Benign</td>\n",
       "    </tr>\n",
       "    <tr>\n",
       "      <th>213</th>\n",
       "      <td>2020.0</td>\n",
       "      <td>40.0</td>\n",
       "      <td>0</td>\n",
       "      <td>5.0</td>\n",
       "      <td>0.0</td>\n",
       "      <td>Left</td>\n",
       "      <td>1.0</td>\n",
       "      <td>Upper outer</td>\n",
       "      <td>0.0</td>\n",
       "      <td>Benign</td>\n",
       "    </tr>\n",
       "    <tr>\n",
       "      <th>214</th>\n",
       "      <td>2020.0</td>\n",
       "      <td>13.0</td>\n",
       "      <td>1</td>\n",
       "      <td>4.0</td>\n",
       "      <td>0.0</td>\n",
       "      <td>Left</td>\n",
       "      <td>0.0</td>\n",
       "      <td>Lower outer</td>\n",
       "      <td>1.0</td>\n",
       "      <td>Benign</td>\n",
       "    </tr>\n",
       "  </tbody>\n",
       "</table>\n",
       "<p>215 rows × 10 columns</p>\n",
       "</div>"
      ],
      "text/plain": [
       "       Year   Age  Menopause  TumorSize(cm) Inv-Nodes Breast Metastasis  \\\n",
       "0    2019.0  40.0          1            2.0       0.0  Right        0.0   \n",
       "1    2019.0  39.0          1            2.0       0.0   Left        0.0   \n",
       "2    2019.0  45.0          0            4.0       0.0   Left        0.0   \n",
       "3    2019.0  26.0          1            3.0       0.0   Left        0.0   \n",
       "4    2019.0  21.0          1            1.0       0.0  Right        0.0   \n",
       "..      ...   ...        ...            ...       ...    ...        ...   \n",
       "210  2020.0  22.0          1            1.0       0.0   Left        0.0   \n",
       "211  2020.0  19.0          1            1.0       0.0   Left        0.0   \n",
       "212  2020.0  50.0          0            4.0       0.0  Right        0.0   \n",
       "213  2020.0  40.0          0            5.0       0.0   Left        1.0   \n",
       "214  2020.0  13.0          1            4.0       0.0   Left        0.0   \n",
       "\n",
       "    BreastQuadrant History DiagnosisResult  \n",
       "0      Upper inner     0.0          Benign  \n",
       "1      Upper outer     0.0          Benign  \n",
       "2      Lower outer     0.0          Benign  \n",
       "3      Lower inner     1.0          Benign  \n",
       "4      Upper outer     1.0          Benign  \n",
       "..             ...     ...             ...  \n",
       "210    Upper outer     1.0          Benign  \n",
       "211    Lower inner     1.0          Benign  \n",
       "212    Lower outer     1.0          Benign  \n",
       "213    Upper outer     0.0          Benign  \n",
       "214    Lower outer     1.0          Benign  \n",
       "\n",
       "[215 rows x 10 columns]"
      ]
     },
     "execution_count": 90,
     "metadata": {},
     "output_type": "execute_result"
    }
   ],
   "source": [
    "# droping the \"S/N\" column because it won't be needed for the analysis and model building\n",
    "df.drop('S/N', axis=1)\n"
   ]
  },
  {
   "cell_type": "markdown",
   "metadata": {},
   "source": [
    "## Data Visualisation"
   ]
  },
  {
   "cell_type": "code",
   "execution_count": null,
   "metadata": {},
   "outputs": [
    {
     "name": "stdout",
     "output_type": "stream",
     "text": [
      "     S/N  Year   Age  Menopause  Tumor Size (cm) Inv-Nodes Breast Metastasis  \\\n",
      "0      1  2019  40.0          1              2.0         0  Right          0   \n",
      "1      2  2019  39.0          1              2.0         0   Left          0   \n",
      "2      3  2019  45.0          0              4.0         0   Left          0   \n",
      "3      4  2019  26.0          1              3.0         0   Left          0   \n",
      "4      5  2019  21.0          1              1.0         0  Right          0   \n",
      "..   ...   ...   ...        ...              ...       ...    ...        ...   \n",
      "210  211  2020  22.0          1              1.0         0   Left          0   \n",
      "211  212  2020  19.0          1              1.0         0   Left          0   \n",
      "212  213  2020  50.0          0              4.0         0  Right          0   \n",
      "213  214  2020  40.0          0              5.0         0   Left          1   \n",
      "214  215  2020  13.0          1              4.0         0   Left          0   \n",
      "\n",
      "    Breast Quadrant History Diagnosis Result  \n",
      "0       Upper inner       0           Benign  \n",
      "1       Upper outer       0           Benign  \n",
      "2       Lower outer       0           Benign  \n",
      "3       Lower inner       1           Benign  \n",
      "4       Upper outer       1           Benign  \n",
      "..              ...     ...              ...  \n",
      "210     Upper outer       1           Benign  \n",
      "211     Lower inner       1           Benign  \n",
      "212     Lower outer       1           Benign  \n",
      "213     Upper outer       0           Benign  \n",
      "214     Lower outer       1           Benign  \n",
      "\n",
      "[215 rows x 11 columns]\n"
     ]
    }
   ],
   "source": [
    "columns_to_plot = ['Age', 'TumorSize']"
   ]
  }
 ],
 "metadata": {
  "kernelspec": {
   "display_name": "base",
   "language": "python",
   "name": "python3"
  },
  "language_info": {
   "codemirror_mode": {
    "name": "ipython",
    "version": 3
   },
   "file_extension": ".py",
   "mimetype": "text/x-python",
   "name": "python",
   "nbconvert_exporter": "python",
   "pygments_lexer": "ipython3",
   "version": "3.11.5"
  }
 },
 "nbformat": 4,
 "nbformat_minor": 4
}
